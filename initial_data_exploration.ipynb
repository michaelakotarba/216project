version https://git-lfs.github.com/spec/v1
oid sha256:6e42e8e7d466ffe04f102173f2066ee2cdd01b62002a93ec58a75c1fdef3a27d
size 38901
